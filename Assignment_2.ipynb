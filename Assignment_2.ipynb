{
 "cells": [
  {
   "cell_type": "markdown",
   "metadata": {},
   "source": [
    "# Assignment 01"
   ]
  },
  {
   "cell_type": "markdown",
   "metadata": {},
   "source": [
    "### 1. Calculate the area of a triangle:"
   ]
  },
  {
   "cell_type": "code",
   "execution_count": 1,
   "metadata": {},
   "outputs": [
    {
     "name": "stdout",
     "output_type": "stream",
     "text": [
      "Area of the triangle: 25.0\n"
     ]
    }
   ],
   "source": [
    "def triangle_area(base, height):\n",
    "    return 0.5 * base * height\n",
    "\n",
    "base = 10\n",
    "height = 5\n",
    "\n",
    "print(\"Area of the triangle:\", triangle_area(base, height))"
   ]
  },
  {
   "cell_type": "markdown",
   "metadata": {},
   "source": [
    "### 2. Compute the area of a square:"
   ]
  },
  {
   "cell_type": "code",
   "execution_count": 2,
   "metadata": {},
   "outputs": [
    {
     "name": "stdout",
     "output_type": "stream",
     "text": [
      "Area of the square: 16\n"
     ]
    }
   ],
   "source": [
    "def square_area(side):\n",
    "    return side * side\n",
    "\n",
    "side = 4\n",
    "print(\"Area of the square:\", square_area(side))"
   ]
  },
  {
   "cell_type": "markdown",
   "metadata": {},
   "source": [
    "### 3. Find the area of a circle with a radius of 7 units:"
   ]
  },
  {
   "cell_type": "code",
   "execution_count": 3,
   "metadata": {},
   "outputs": [
    {
     "name": "stdout",
     "output_type": "stream",
     "text": [
      "Area of the circle: 153.93804002589985\n"
     ]
    }
   ],
   "source": [
    "import math\n",
    "\n",
    "def circle_area(radius):\n",
    "    return math.pi * radius * radius\n",
    "\n",
    "# Example usage:\n",
    "radius = 7\n",
    "print(\"Area of the circle:\", circle_area(radius))"
   ]
  }
 ],
 "metadata": {
  "kernelspec": {
   "display_name": "Python 3",
   "language": "python",
   "name": "python3"
  },
  "language_info": {
   "codemirror_mode": {
    "name": "ipython",
    "version": 3
   },
   "file_extension": ".py",
   "mimetype": "text/x-python",
   "name": "python",
   "nbconvert_exporter": "python",
   "pygments_lexer": "ipython3",
   "version": "3.12.5"
  }
 },
 "nbformat": 4,
 "nbformat_minor": 2
}
